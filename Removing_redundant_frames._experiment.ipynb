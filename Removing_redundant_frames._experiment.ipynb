{
 "cells": [
  {
   "cell_type": "code",
   "execution_count": 1,
   "metadata": {},
   "outputs": [
    {
     "name": "stdout",
     "output_type": "stream",
     "text": [
      "Reading images from /home/areebadnan/Areeb_code/work/Visua_Data/output_videos/65ae82fb939a1d114f107f72/images\n",
      "Checking for dark, light, odd_aspect_ratio, low_information, exact_duplicates, near_duplicates, blurry, grayscale, odd_size images ...\n"
     ]
    },
    {
     "name": "stderr",
     "output_type": "stream",
     "text": [
      "/home/areebadnan/Areeb_Python_Environments/yolo_env2/lib/python3.10/site-packages/tqdm/auto.py:21: TqdmWarning: IProgress not found. Please update jupyter and ipywidgets. See https://ipywidgets.readthedocs.io/en/stable/user_install.html\n",
      "  from .autonotebook import tqdm as notebook_tqdm\n",
      "100%|██████████| 124/124 [00:03<00:00, 38.99it/s]\n",
      "100%|██████████| 124/124 [00:00<00:00, 174.09it/s]"
     ]
    },
    {
     "name": "stdout",
     "output_type": "stream",
     "text": [
      "Issue checks completed. 50 issues found in the dataset. To see a detailed report of issues found, use imagelab.report().\n"
     ]
    },
    {
     "name": "stderr",
     "output_type": "stream",
     "text": [
      "\n"
     ]
    }
   ],
   "source": [
    "from cleanvision import Imagelab\n",
    "\n",
    "# Path to your dataset, you can specify your own dataset path\n",
    "dataset_path = \"/home/areebadnan/Areeb_code/work/Visua_Data/output_videos/65ae82fb939a1d114f107f72/images\"\n",
    "\n",
    "# Initialize imagelab with your dataset\n",
    "imagelab = Imagelab(data_path=dataset_path)\n",
    "\n",
    "# Find issues\n",
    "imagelab.find_issues()\n",
    "#imagelab.report()"
   ]
  },
  {
   "cell_type": "code",
   "execution_count": 2,
   "metadata": {},
   "outputs": [
    {
     "data": {
      "text/html": [
       "<div>\n",
       "<style scoped>\n",
       "    .dataframe tbody tr th:only-of-type {\n",
       "        vertical-align: middle;\n",
       "    }\n",
       "\n",
       "    .dataframe tbody tr th {\n",
       "        vertical-align: top;\n",
       "    }\n",
       "\n",
       "    .dataframe thead th {\n",
       "        text-align: right;\n",
       "    }\n",
       "</style>\n",
       "<table border=\"1\" class=\"dataframe\">\n",
       "  <thead>\n",
       "    <tr style=\"text-align: right;\">\n",
       "      <th></th>\n",
       "      <th>issue_type</th>\n",
       "      <th>num_images</th>\n",
       "    </tr>\n",
       "  </thead>\n",
       "  <tbody>\n",
       "    <tr>\n",
       "      <th>0</th>\n",
       "      <td>near_duplicates</td>\n",
       "      <td>50</td>\n",
       "    </tr>\n",
       "    <tr>\n",
       "      <th>1</th>\n",
       "      <td>dark</td>\n",
       "      <td>0</td>\n",
       "    </tr>\n",
       "    <tr>\n",
       "      <th>2</th>\n",
       "      <td>light</td>\n",
       "      <td>0</td>\n",
       "    </tr>\n",
       "    <tr>\n",
       "      <th>3</th>\n",
       "      <td>odd_aspect_ratio</td>\n",
       "      <td>0</td>\n",
       "    </tr>\n",
       "    <tr>\n",
       "      <th>4</th>\n",
       "      <td>low_information</td>\n",
       "      <td>0</td>\n",
       "    </tr>\n",
       "    <tr>\n",
       "      <th>5</th>\n",
       "      <td>blurry</td>\n",
       "      <td>0</td>\n",
       "    </tr>\n",
       "    <tr>\n",
       "      <th>6</th>\n",
       "      <td>grayscale</td>\n",
       "      <td>0</td>\n",
       "    </tr>\n",
       "    <tr>\n",
       "      <th>7</th>\n",
       "      <td>odd_size</td>\n",
       "      <td>0</td>\n",
       "    </tr>\n",
       "    <tr>\n",
       "      <th>8</th>\n",
       "      <td>exact_duplicates</td>\n",
       "      <td>0</td>\n",
       "    </tr>\n",
       "  </tbody>\n",
       "</table>\n",
       "</div>"
      ],
      "text/plain": [
       "         issue_type  num_images\n",
       "0   near_duplicates          50\n",
       "1              dark           0\n",
       "2             light           0\n",
       "3  odd_aspect_ratio           0\n",
       "4   low_information           0\n",
       "5            blurry           0\n",
       "6         grayscale           0\n",
       "7          odd_size           0\n",
       "8  exact_duplicates           0"
      ]
     },
     "execution_count": 2,
     "metadata": {},
     "output_type": "execute_result"
    }
   ],
   "source": [
    "imagelab.issue_summary"
   ]
  },
  {
   "cell_type": "code",
   "execution_count": 10,
   "metadata": {},
   "outputs": [
    {
     "data": {
      "text/plain": [
       "['/home/areebadnan/Areeb_code/work/Visua_Data/output_videos/65ae82fb939a1d114f107f72/images/65ae82fb939a1d114f107f72_362.jpg',\n",
       " '/home/areebadnan/Areeb_code/work/Visua_Data/output_videos/65ae82fb939a1d114f107f72/images/65ae82fb939a1d114f107f72_363.jpg',\n",
       " '/home/areebadnan/Areeb_code/work/Visua_Data/output_videos/65ae82fb939a1d114f107f72/images/65ae82fb939a1d114f107f72_368.jpg',\n",
       " '/home/areebadnan/Areeb_code/work/Visua_Data/output_videos/65ae82fb939a1d114f107f72/images/65ae82fb939a1d114f107f72_369.jpg',\n",
       " '/home/areebadnan/Areeb_code/work/Visua_Data/output_videos/65ae82fb939a1d114f107f72/images/65ae82fb939a1d114f107f72_374.jpg',\n",
       " '/home/areebadnan/Areeb_code/work/Visua_Data/output_videos/65ae82fb939a1d114f107f72/images/65ae82fb939a1d114f107f72_375.jpg',\n",
       " '/home/areebadnan/Areeb_code/work/Visua_Data/output_videos/65ae82fb939a1d114f107f72/images/65ae82fb939a1d114f107f72_380.jpg',\n",
       " '/home/areebadnan/Areeb_code/work/Visua_Data/output_videos/65ae82fb939a1d114f107f72/images/65ae82fb939a1d114f107f72_381.jpg',\n",
       " '/home/areebadnan/Areeb_code/work/Visua_Data/output_videos/65ae82fb939a1d114f107f72/images/65ae82fb939a1d114f107f72_452.jpg',\n",
       " '/home/areebadnan/Areeb_code/work/Visua_Data/output_videos/65ae82fb939a1d114f107f72/images/65ae82fb939a1d114f107f72_453.jpg',\n",
       " '/home/areebadnan/Areeb_code/work/Visua_Data/output_videos/65ae82fb939a1d114f107f72/images/65ae82fb939a1d114f107f72_458.jpg',\n",
       " '/home/areebadnan/Areeb_code/work/Visua_Data/output_videos/65ae82fb939a1d114f107f72/images/65ae82fb939a1d114f107f72_459.jpg',\n",
       " '/home/areebadnan/Areeb_code/work/Visua_Data/output_videos/65ae82fb939a1d114f107f72/images/65ae82fb939a1d114f107f72_463.jpg',\n",
       " '/home/areebadnan/Areeb_code/work/Visua_Data/output_videos/65ae82fb939a1d114f107f72/images/65ae82fb939a1d114f107f72_464.jpg',\n",
       " '/home/areebadnan/Areeb_code/work/Visua_Data/output_videos/65ae82fb939a1d114f107f72/images/65ae82fb939a1d114f107f72_465.jpg',\n",
       " '/home/areebadnan/Areeb_code/work/Visua_Data/output_videos/65ae82fb939a1d114f107f72/images/65ae82fb939a1d114f107f72_469.jpg',\n",
       " '/home/areebadnan/Areeb_code/work/Visua_Data/output_videos/65ae82fb939a1d114f107f72/images/65ae82fb939a1d114f107f72_470.jpg',\n",
       " '/home/areebadnan/Areeb_code/work/Visua_Data/output_videos/65ae82fb939a1d114f107f72/images/65ae82fb939a1d114f107f72_471.jpg',\n",
       " '/home/areebadnan/Areeb_code/work/Visua_Data/output_videos/65ae82fb939a1d114f107f72/images/65ae82fb939a1d114f107f72_476.jpg',\n",
       " '/home/areebadnan/Areeb_code/work/Visua_Data/output_videos/65ae82fb939a1d114f107f72/images/65ae82fb939a1d114f107f72_477.jpg',\n",
       " '/home/areebadnan/Areeb_code/work/Visua_Data/output_videos/65ae82fb939a1d114f107f72/images/65ae82fb939a1d114f107f72_478.jpg',\n",
       " '/home/areebadnan/Areeb_code/work/Visua_Data/output_videos/65ae82fb939a1d114f107f72/images/65ae82fb939a1d114f107f72_482.jpg',\n",
       " '/home/areebadnan/Areeb_code/work/Visua_Data/output_videos/65ae82fb939a1d114f107f72/images/65ae82fb939a1d114f107f72_483.jpg',\n",
       " '/home/areebadnan/Areeb_code/work/Visua_Data/output_videos/65ae82fb939a1d114f107f72/images/65ae82fb939a1d114f107f72_484.jpg',\n",
       " '/home/areebadnan/Areeb_code/work/Visua_Data/output_videos/65ae82fb939a1d114f107f72/images/65ae82fb939a1d114f107f72_485.jpg',\n",
       " '/home/areebadnan/Areeb_code/work/Visua_Data/output_videos/65ae82fb939a1d114f107f72/images/65ae82fb939a1d114f107f72_487.jpg',\n",
       " '/home/areebadnan/Areeb_code/work/Visua_Data/output_videos/65ae82fb939a1d114f107f72/images/65ae82fb939a1d114f107f72_488.jpg',\n",
       " '/home/areebadnan/Areeb_code/work/Visua_Data/output_videos/65ae82fb939a1d114f107f72/images/65ae82fb939a1d114f107f72_489.jpg',\n",
       " '/home/areebadnan/Areeb_code/work/Visua_Data/output_videos/65ae82fb939a1d114f107f72/images/65ae82fb939a1d114f107f72_490.jpg',\n",
       " '/home/areebadnan/Areeb_code/work/Visua_Data/output_videos/65ae82fb939a1d114f107f72/images/65ae82fb939a1d114f107f72_494.jpg',\n",
       " '/home/areebadnan/Areeb_code/work/Visua_Data/output_videos/65ae82fb939a1d114f107f72/images/65ae82fb939a1d114f107f72_495.jpg',\n",
       " '/home/areebadnan/Areeb_code/work/Visua_Data/output_videos/65ae82fb939a1d114f107f72/images/65ae82fb939a1d114f107f72_536.jpg',\n",
       " '/home/areebadnan/Areeb_code/work/Visua_Data/output_videos/65ae82fb939a1d114f107f72/images/65ae82fb939a1d114f107f72_537.jpg',\n",
       " '/home/areebadnan/Areeb_code/work/Visua_Data/output_videos/65ae82fb939a1d114f107f72/images/65ae82fb939a1d114f107f72_542.jpg',\n",
       " '/home/areebadnan/Areeb_code/work/Visua_Data/output_videos/65ae82fb939a1d114f107f72/images/65ae82fb939a1d114f107f72_543.jpg',\n",
       " '/home/areebadnan/Areeb_code/work/Visua_Data/output_videos/65ae82fb939a1d114f107f72/images/65ae82fb939a1d114f107f72_68.jpg',\n",
       " '/home/areebadnan/Areeb_code/work/Visua_Data/output_videos/65ae82fb939a1d114f107f72/images/65ae82fb939a1d114f107f72_69.jpg',\n",
       " '/home/areebadnan/Areeb_code/work/Visua_Data/output_videos/65ae82fb939a1d114f107f72/images/65ae82fb939a1d114f107f72_74.jpg',\n",
       " '/home/areebadnan/Areeb_code/work/Visua_Data/output_videos/65ae82fb939a1d114f107f72/images/65ae82fb939a1d114f107f72_75.jpg',\n",
       " '/home/areebadnan/Areeb_code/work/Visua_Data/output_videos/65ae82fb939a1d114f107f72/images/65ae82fb939a1d114f107f72_80.jpg',\n",
       " '/home/areebadnan/Areeb_code/work/Visua_Data/output_videos/65ae82fb939a1d114f107f72/images/65ae82fb939a1d114f107f72_81.jpg',\n",
       " '/home/areebadnan/Areeb_code/work/Visua_Data/output_videos/65ae82fb939a1d114f107f72/images/65ae82fb939a1d114f107f72_82.jpg',\n",
       " '/home/areebadnan/Areeb_code/work/Visua_Data/output_videos/65ae82fb939a1d114f107f72/images/65ae82fb939a1d114f107f72_83.jpg',\n",
       " '/home/areebadnan/Areeb_code/work/Visua_Data/output_videos/65ae82fb939a1d114f107f72/images/65ae82fb939a1d114f107f72_85.jpg',\n",
       " '/home/areebadnan/Areeb_code/work/Visua_Data/output_videos/65ae82fb939a1d114f107f72/images/65ae82fb939a1d114f107f72_86.jpg',\n",
       " '/home/areebadnan/Areeb_code/work/Visua_Data/output_videos/65ae82fb939a1d114f107f72/images/65ae82fb939a1d114f107f72_87.jpg',\n",
       " '/home/areebadnan/Areeb_code/work/Visua_Data/output_videos/65ae82fb939a1d114f107f72/images/65ae82fb939a1d114f107f72_89.jpg',\n",
       " '/home/areebadnan/Areeb_code/work/Visua_Data/output_videos/65ae82fb939a1d114f107f72/images/65ae82fb939a1d114f107f72_90.jpg',\n",
       " '/home/areebadnan/Areeb_code/work/Visua_Data/output_videos/65ae82fb939a1d114f107f72/images/65ae82fb939a1d114f107f72_92.jpg',\n",
       " '/home/areebadnan/Areeb_code/work/Visua_Data/output_videos/65ae82fb939a1d114f107f72/images/65ae82fb939a1d114f107f72_93.jpg']"
      ]
     },
     "execution_count": 10,
     "metadata": {},
     "output_type": "execute_result"
    }
   ],
   "source": [
    "files = imagelab.issues[imagelab.issues[\"is_near_duplicates_issue\"] == True]\n",
    "files = files.index.tolist()\n",
    "files"
   ]
  },
  {
   "cell_type": "code",
   "execution_count": 11,
   "metadata": {},
   "outputs": [
    {
     "name": "stdout",
     "output_type": "stream",
     "text": [
      "Saved Imagelab to folder: /home/areebadnan/Areeb_code/work/Atheritia/Scripts/Experiments for scripts/Redudant_script_experiment/results\n",
      "The data path and dataset must be not be changed to maintain consistent state when loading this Imagelab\n"
     ]
    }
   ],
   "source": [
    "save_path = \"/home/areebadnan/Areeb_code/work/Atheritia/Scripts/Experiments for scripts/Redudant_script_experiment/results\"\n",
    "imagelab.save(save_path)"
   ]
  },
  {
   "cell_type": "code",
   "execution_count": null,
   "metadata": {},
   "outputs": [],
   "source": []
  }
 ],
 "metadata": {
  "kernelspec": {
   "display_name": "yolo_env2",
   "language": "python",
   "name": "python3"
  },
  "language_info": {
   "codemirror_mode": {
    "name": "ipython",
    "version": 3
   },
   "file_extension": ".py",
   "mimetype": "text/x-python",
   "name": "python",
   "nbconvert_exporter": "python",
   "pygments_lexer": "ipython3",
   "version": "3.10.12"
  }
 },
 "nbformat": 4,
 "nbformat_minor": 2
}
