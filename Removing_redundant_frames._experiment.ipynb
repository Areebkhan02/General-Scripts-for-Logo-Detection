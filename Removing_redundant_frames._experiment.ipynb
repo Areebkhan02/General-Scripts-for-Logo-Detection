{
 "cells": [
  {
   "cell_type": "code",
   "execution_count": 3,
   "metadata": {},
   "outputs": [
    {
     "name": "stdout",
     "output_type": "stream",
     "text": [
      "Reading images from /home/areebadnan/Areeb_code/work/Visua_Data/output_videos/65ae82fb939a1d114f107f72/images\n",
      "Checking for dark, light, odd_aspect_ratio, low_information, exact_duplicates, near_duplicates, blurry, grayscale, odd_size images ...\n"
     ]
    },
    {
     "name": "stderr",
     "output_type": "stream",
     "text": [
      "100%|██████████| 124/124 [00:03<00:00, 36.50it/s]\n",
      "100%|██████████| 124/124 [00:00<00:00, 167.49it/s]\n"
     ]
    },
    {
     "name": "stdout",
     "output_type": "stream",
     "text": [
      "Issue checks completed. 50 issues found in the dataset. To see a detailed report of issues found, use imagelab.report().\n"
     ]
    }
   ],
   "source": [
    "from cleanvision import Imagelab\n",
    "\n",
    "# Path to your dataset, you can specify your own dataset path\n",
    "dataset_path = \"/home/areebadnan/Areeb_code/work/Visua_Data/output_videos/65ae82fb939a1d114f107f72/images\"\n",
    "\n",
    "# Initialize imagelab with your dataset\n",
    "imagelab = Imagelab(data_path=dataset_path)\n",
    "\n",
    "# Find issues\n",
    "imagelab.find_issues()\n",
    "#imagelab.report()"
   ]
  },
  {
   "cell_type": "code",
   "execution_count": 4,
   "metadata": {},
   "outputs": [
    {
     "data": {
      "text/html": [
       "<div>\n",
       "<style scoped>\n",
       "    .dataframe tbody tr th:only-of-type {\n",
       "        vertical-align: middle;\n",
       "    }\n",
       "\n",
       "    .dataframe tbody tr th {\n",
       "        vertical-align: top;\n",
       "    }\n",
       "\n",
       "    .dataframe thead th {\n",
       "        text-align: right;\n",
       "    }\n",
       "</style>\n",
       "<table border=\"1\" class=\"dataframe\">\n",
       "  <thead>\n",
       "    <tr style=\"text-align: right;\">\n",
       "      <th></th>\n",
       "      <th>odd_size_score</th>\n",
       "      <th>is_odd_size_issue</th>\n",
       "      <th>odd_aspect_ratio_score</th>\n",
       "      <th>is_odd_aspect_ratio_issue</th>\n",
       "      <th>low_information_score</th>\n",
       "      <th>is_low_information_issue</th>\n",
       "      <th>light_score</th>\n",
       "      <th>is_light_issue</th>\n",
       "      <th>grayscale_score</th>\n",
       "      <th>is_grayscale_issue</th>\n",
       "      <th>dark_score</th>\n",
       "      <th>is_dark_issue</th>\n",
       "      <th>blurry_score</th>\n",
       "      <th>is_blurry_issue</th>\n",
       "      <th>exact_duplicates_score</th>\n",
       "      <th>is_exact_duplicates_issue</th>\n",
       "      <th>near_duplicates_score</th>\n",
       "      <th>is_near_duplicates_issue</th>\n",
       "    </tr>\n",
       "  </thead>\n",
       "  <tbody>\n",
       "    <tr>\n",
       "      <th>/home/areebadnan/Areeb_code/work/Visua_Data/output_videos/65ae82fb939a1d114f107f72/images/65ae82fb939a1d114f107f72_360.jpg</th>\n",
       "      <td>1.0</td>\n",
       "      <td>False</td>\n",
       "      <td>0.5625</td>\n",
       "      <td>False</td>\n",
       "      <td>0.863312</td>\n",
       "      <td>False</td>\n",
       "      <td>0.931157</td>\n",
       "      <td>False</td>\n",
       "      <td>1</td>\n",
       "      <td>False</td>\n",
       "      <td>0.857190</td>\n",
       "      <td>False</td>\n",
       "      <td>0.513330</td>\n",
       "      <td>False</td>\n",
       "      <td>1.0</td>\n",
       "      <td>False</td>\n",
       "      <td>1.0</td>\n",
       "      <td>False</td>\n",
       "    </tr>\n",
       "    <tr>\n",
       "      <th>/home/areebadnan/Areeb_code/work/Visua_Data/output_videos/65ae82fb939a1d114f107f72/images/65ae82fb939a1d114f107f72_361.jpg</th>\n",
       "      <td>1.0</td>\n",
       "      <td>False</td>\n",
       "      <td>0.5625</td>\n",
       "      <td>False</td>\n",
       "      <td>0.867418</td>\n",
       "      <td>False</td>\n",
       "      <td>0.934985</td>\n",
       "      <td>False</td>\n",
       "      <td>1</td>\n",
       "      <td>False</td>\n",
       "      <td>0.863819</td>\n",
       "      <td>False</td>\n",
       "      <td>0.514526</td>\n",
       "      <td>False</td>\n",
       "      <td>1.0</td>\n",
       "      <td>False</td>\n",
       "      <td>1.0</td>\n",
       "      <td>False</td>\n",
       "    </tr>\n",
       "  </tbody>\n",
       "</table>\n",
       "</div>"
      ],
      "text/plain": [
       "                                                    odd_size_score  \\\n",
       "/home/areebadnan/Areeb_code/work/Visua_Data/out...             1.0   \n",
       "/home/areebadnan/Areeb_code/work/Visua_Data/out...             1.0   \n",
       "\n",
       "                                                    is_odd_size_issue  \\\n",
       "/home/areebadnan/Areeb_code/work/Visua_Data/out...              False   \n",
       "/home/areebadnan/Areeb_code/work/Visua_Data/out...              False   \n",
       "\n",
       "                                                    odd_aspect_ratio_score  \\\n",
       "/home/areebadnan/Areeb_code/work/Visua_Data/out...                  0.5625   \n",
       "/home/areebadnan/Areeb_code/work/Visua_Data/out...                  0.5625   \n",
       "\n",
       "                                                    is_odd_aspect_ratio_issue  \\\n",
       "/home/areebadnan/Areeb_code/work/Visua_Data/out...                      False   \n",
       "/home/areebadnan/Areeb_code/work/Visua_Data/out...                      False   \n",
       "\n",
       "                                                    low_information_score  \\\n",
       "/home/areebadnan/Areeb_code/work/Visua_Data/out...               0.863312   \n",
       "/home/areebadnan/Areeb_code/work/Visua_Data/out...               0.867418   \n",
       "\n",
       "                                                    is_low_information_issue  \\\n",
       "/home/areebadnan/Areeb_code/work/Visua_Data/out...                     False   \n",
       "/home/areebadnan/Areeb_code/work/Visua_Data/out...                     False   \n",
       "\n",
       "                                                    light_score  \\\n",
       "/home/areebadnan/Areeb_code/work/Visua_Data/out...     0.931157   \n",
       "/home/areebadnan/Areeb_code/work/Visua_Data/out...     0.934985   \n",
       "\n",
       "                                                    is_light_issue  \\\n",
       "/home/areebadnan/Areeb_code/work/Visua_Data/out...           False   \n",
       "/home/areebadnan/Areeb_code/work/Visua_Data/out...           False   \n",
       "\n",
       "                                                    grayscale_score  \\\n",
       "/home/areebadnan/Areeb_code/work/Visua_Data/out...                1   \n",
       "/home/areebadnan/Areeb_code/work/Visua_Data/out...                1   \n",
       "\n",
       "                                                    is_grayscale_issue  \\\n",
       "/home/areebadnan/Areeb_code/work/Visua_Data/out...               False   \n",
       "/home/areebadnan/Areeb_code/work/Visua_Data/out...               False   \n",
       "\n",
       "                                                    dark_score  is_dark_issue  \\\n",
       "/home/areebadnan/Areeb_code/work/Visua_Data/out...    0.857190          False   \n",
       "/home/areebadnan/Areeb_code/work/Visua_Data/out...    0.863819          False   \n",
       "\n",
       "                                                    blurry_score  \\\n",
       "/home/areebadnan/Areeb_code/work/Visua_Data/out...      0.513330   \n",
       "/home/areebadnan/Areeb_code/work/Visua_Data/out...      0.514526   \n",
       "\n",
       "                                                    is_blurry_issue  \\\n",
       "/home/areebadnan/Areeb_code/work/Visua_Data/out...            False   \n",
       "/home/areebadnan/Areeb_code/work/Visua_Data/out...            False   \n",
       "\n",
       "                                                    exact_duplicates_score  \\\n",
       "/home/areebadnan/Areeb_code/work/Visua_Data/out...                     1.0   \n",
       "/home/areebadnan/Areeb_code/work/Visua_Data/out...                     1.0   \n",
       "\n",
       "                                                    is_exact_duplicates_issue  \\\n",
       "/home/areebadnan/Areeb_code/work/Visua_Data/out...                      False   \n",
       "/home/areebadnan/Areeb_code/work/Visua_Data/out...                      False   \n",
       "\n",
       "                                                    near_duplicates_score  \\\n",
       "/home/areebadnan/Areeb_code/work/Visua_Data/out...                    1.0   \n",
       "/home/areebadnan/Areeb_code/work/Visua_Data/out...                    1.0   \n",
       "\n",
       "                                                    is_near_duplicates_issue  \n",
       "/home/areebadnan/Areeb_code/work/Visua_Data/out...                     False  \n",
       "/home/areebadnan/Areeb_code/work/Visua_Data/out...                     False  "
      ]
     },
     "execution_count": 4,
     "metadata": {},
     "output_type": "execute_result"
    }
   ],
   "source": [
    "imagelab.issues.head(2)"
   ]
  },
  {
   "cell_type": "code",
   "execution_count": 10,
   "metadata": {},
   "outputs": [
    {
     "data": {
      "text/plain": [
       "['/home/areebadnan/Areeb_code/work/Visua_Data/output_videos/65ae82fb939a1d114f107f72/images/65ae82fb939a1d114f107f72_362.jpg',\n",
       " '/home/areebadnan/Areeb_code/work/Visua_Data/output_videos/65ae82fb939a1d114f107f72/images/65ae82fb939a1d114f107f72_363.jpg',\n",
       " '/home/areebadnan/Areeb_code/work/Visua_Data/output_videos/65ae82fb939a1d114f107f72/images/65ae82fb939a1d114f107f72_368.jpg',\n",
       " '/home/areebadnan/Areeb_code/work/Visua_Data/output_videos/65ae82fb939a1d114f107f72/images/65ae82fb939a1d114f107f72_369.jpg',\n",
       " '/home/areebadnan/Areeb_code/work/Visua_Data/output_videos/65ae82fb939a1d114f107f72/images/65ae82fb939a1d114f107f72_374.jpg',\n",
       " '/home/areebadnan/Areeb_code/work/Visua_Data/output_videos/65ae82fb939a1d114f107f72/images/65ae82fb939a1d114f107f72_375.jpg',\n",
       " '/home/areebadnan/Areeb_code/work/Visua_Data/output_videos/65ae82fb939a1d114f107f72/images/65ae82fb939a1d114f107f72_380.jpg',\n",
       " '/home/areebadnan/Areeb_code/work/Visua_Data/output_videos/65ae82fb939a1d114f107f72/images/65ae82fb939a1d114f107f72_381.jpg',\n",
       " '/home/areebadnan/Areeb_code/work/Visua_Data/output_videos/65ae82fb939a1d114f107f72/images/65ae82fb939a1d114f107f72_452.jpg',\n",
       " '/home/areebadnan/Areeb_code/work/Visua_Data/output_videos/65ae82fb939a1d114f107f72/images/65ae82fb939a1d114f107f72_453.jpg',\n",
       " '/home/areebadnan/Areeb_code/work/Visua_Data/output_videos/65ae82fb939a1d114f107f72/images/65ae82fb939a1d114f107f72_458.jpg',\n",
       " '/home/areebadnan/Areeb_code/work/Visua_Data/output_videos/65ae82fb939a1d114f107f72/images/65ae82fb939a1d114f107f72_459.jpg',\n",
       " '/home/areebadnan/Areeb_code/work/Visua_Data/output_videos/65ae82fb939a1d114f107f72/images/65ae82fb939a1d114f107f72_463.jpg',\n",
       " '/home/areebadnan/Areeb_code/work/Visua_Data/output_videos/65ae82fb939a1d114f107f72/images/65ae82fb939a1d114f107f72_464.jpg',\n",
       " '/home/areebadnan/Areeb_code/work/Visua_Data/output_videos/65ae82fb939a1d114f107f72/images/65ae82fb939a1d114f107f72_465.jpg',\n",
       " '/home/areebadnan/Areeb_code/work/Visua_Data/output_videos/65ae82fb939a1d114f107f72/images/65ae82fb939a1d114f107f72_469.jpg',\n",
       " '/home/areebadnan/Areeb_code/work/Visua_Data/output_videos/65ae82fb939a1d114f107f72/images/65ae82fb939a1d114f107f72_470.jpg',\n",
       " '/home/areebadnan/Areeb_code/work/Visua_Data/output_videos/65ae82fb939a1d114f107f72/images/65ae82fb939a1d114f107f72_471.jpg',\n",
       " '/home/areebadnan/Areeb_code/work/Visua_Data/output_videos/65ae82fb939a1d114f107f72/images/65ae82fb939a1d114f107f72_476.jpg',\n",
       " '/home/areebadnan/Areeb_code/work/Visua_Data/output_videos/65ae82fb939a1d114f107f72/images/65ae82fb939a1d114f107f72_477.jpg',\n",
       " '/home/areebadnan/Areeb_code/work/Visua_Data/output_videos/65ae82fb939a1d114f107f72/images/65ae82fb939a1d114f107f72_478.jpg',\n",
       " '/home/areebadnan/Areeb_code/work/Visua_Data/output_videos/65ae82fb939a1d114f107f72/images/65ae82fb939a1d114f107f72_482.jpg',\n",
       " '/home/areebadnan/Areeb_code/work/Visua_Data/output_videos/65ae82fb939a1d114f107f72/images/65ae82fb939a1d114f107f72_483.jpg',\n",
       " '/home/areebadnan/Areeb_code/work/Visua_Data/output_videos/65ae82fb939a1d114f107f72/images/65ae82fb939a1d114f107f72_484.jpg',\n",
       " '/home/areebadnan/Areeb_code/work/Visua_Data/output_videos/65ae82fb939a1d114f107f72/images/65ae82fb939a1d114f107f72_485.jpg',\n",
       " '/home/areebadnan/Areeb_code/work/Visua_Data/output_videos/65ae82fb939a1d114f107f72/images/65ae82fb939a1d114f107f72_487.jpg',\n",
       " '/home/areebadnan/Areeb_code/work/Visua_Data/output_videos/65ae82fb939a1d114f107f72/images/65ae82fb939a1d114f107f72_488.jpg',\n",
       " '/home/areebadnan/Areeb_code/work/Visua_Data/output_videos/65ae82fb939a1d114f107f72/images/65ae82fb939a1d114f107f72_489.jpg',\n",
       " '/home/areebadnan/Areeb_code/work/Visua_Data/output_videos/65ae82fb939a1d114f107f72/images/65ae82fb939a1d114f107f72_490.jpg',\n",
       " '/home/areebadnan/Areeb_code/work/Visua_Data/output_videos/65ae82fb939a1d114f107f72/images/65ae82fb939a1d114f107f72_494.jpg',\n",
       " '/home/areebadnan/Areeb_code/work/Visua_Data/output_videos/65ae82fb939a1d114f107f72/images/65ae82fb939a1d114f107f72_495.jpg',\n",
       " '/home/areebadnan/Areeb_code/work/Visua_Data/output_videos/65ae82fb939a1d114f107f72/images/65ae82fb939a1d114f107f72_536.jpg',\n",
       " '/home/areebadnan/Areeb_code/work/Visua_Data/output_videos/65ae82fb939a1d114f107f72/images/65ae82fb939a1d114f107f72_537.jpg',\n",
       " '/home/areebadnan/Areeb_code/work/Visua_Data/output_videos/65ae82fb939a1d114f107f72/images/65ae82fb939a1d114f107f72_542.jpg',\n",
       " '/home/areebadnan/Areeb_code/work/Visua_Data/output_videos/65ae82fb939a1d114f107f72/images/65ae82fb939a1d114f107f72_543.jpg',\n",
       " '/home/areebadnan/Areeb_code/work/Visua_Data/output_videos/65ae82fb939a1d114f107f72/images/65ae82fb939a1d114f107f72_68.jpg',\n",
       " '/home/areebadnan/Areeb_code/work/Visua_Data/output_videos/65ae82fb939a1d114f107f72/images/65ae82fb939a1d114f107f72_69.jpg',\n",
       " '/home/areebadnan/Areeb_code/work/Visua_Data/output_videos/65ae82fb939a1d114f107f72/images/65ae82fb939a1d114f107f72_74.jpg',\n",
       " '/home/areebadnan/Areeb_code/work/Visua_Data/output_videos/65ae82fb939a1d114f107f72/images/65ae82fb939a1d114f107f72_75.jpg',\n",
       " '/home/areebadnan/Areeb_code/work/Visua_Data/output_videos/65ae82fb939a1d114f107f72/images/65ae82fb939a1d114f107f72_80.jpg',\n",
       " '/home/areebadnan/Areeb_code/work/Visua_Data/output_videos/65ae82fb939a1d114f107f72/images/65ae82fb939a1d114f107f72_81.jpg',\n",
       " '/home/areebadnan/Areeb_code/work/Visua_Data/output_videos/65ae82fb939a1d114f107f72/images/65ae82fb939a1d114f107f72_82.jpg',\n",
       " '/home/areebadnan/Areeb_code/work/Visua_Data/output_videos/65ae82fb939a1d114f107f72/images/65ae82fb939a1d114f107f72_83.jpg',\n",
       " '/home/areebadnan/Areeb_code/work/Visua_Data/output_videos/65ae82fb939a1d114f107f72/images/65ae82fb939a1d114f107f72_85.jpg',\n",
       " '/home/areebadnan/Areeb_code/work/Visua_Data/output_videos/65ae82fb939a1d114f107f72/images/65ae82fb939a1d114f107f72_86.jpg',\n",
       " '/home/areebadnan/Areeb_code/work/Visua_Data/output_videos/65ae82fb939a1d114f107f72/images/65ae82fb939a1d114f107f72_87.jpg',\n",
       " '/home/areebadnan/Areeb_code/work/Visua_Data/output_videos/65ae82fb939a1d114f107f72/images/65ae82fb939a1d114f107f72_89.jpg',\n",
       " '/home/areebadnan/Areeb_code/work/Visua_Data/output_videos/65ae82fb939a1d114f107f72/images/65ae82fb939a1d114f107f72_90.jpg',\n",
       " '/home/areebadnan/Areeb_code/work/Visua_Data/output_videos/65ae82fb939a1d114f107f72/images/65ae82fb939a1d114f107f72_92.jpg',\n",
       " '/home/areebadnan/Areeb_code/work/Visua_Data/output_videos/65ae82fb939a1d114f107f72/images/65ae82fb939a1d114f107f72_93.jpg']"
      ]
     },
     "execution_count": 10,
     "metadata": {},
     "output_type": "execute_result"
    }
   ],
   "source": [
    "files = imagelab.issues[imagelab.issues[\"is_near_duplicates_issue\"] == True]\n",
    "files = files.index.tolist()\n",
    "files"
   ]
  },
  {
   "cell_type": "code",
   "execution_count": 11,
   "metadata": {},
   "outputs": [
    {
     "name": "stdout",
     "output_type": "stream",
     "text": [
      "Saved Imagelab to folder: /home/areebadnan/Areeb_code/work/Atheritia/Scripts/Experiments for scripts/Redudant_script_experiment/results\n",
      "The data path and dataset must be not be changed to maintain consistent state when loading this Imagelab\n"
     ]
    }
   ],
   "source": [
    "save_path = \"/home/areebadnan/Areeb_code/work/Atheritia/Scripts/Experiments for scripts/Redudant_script_experiment/results\"\n",
    "imagelab.save(save_path)"
   ]
  },
  {
   "cell_type": "code",
   "execution_count": null,
   "metadata": {},
   "outputs": [],
   "source": []
  }
 ],
 "metadata": {
  "kernelspec": {
   "display_name": "yolo_env2",
   "language": "python",
   "name": "python3"
  },
  "language_info": {
   "codemirror_mode": {
    "name": "ipython",
    "version": 3
   },
   "file_extension": ".py",
   "mimetype": "text/x-python",
   "name": "python",
   "nbconvert_exporter": "python",
   "pygments_lexer": "ipython3",
   "version": "3.10.12"
  }
 },
 "nbformat": 4,
 "nbformat_minor": 2
}
